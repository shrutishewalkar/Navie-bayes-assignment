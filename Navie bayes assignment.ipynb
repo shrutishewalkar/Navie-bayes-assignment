{
 "cells": [
  {
   "cell_type": "markdown",
   "id": "9284fbd5-bfb5-414e-b71b-beaa78337a77",
   "metadata": {},
   "source": [
    "Q1 what is Baye's  theorem?"
   ]
  },
  {
   "cell_type": "markdown",
   "id": "57e0231f-e2b6-4f32-b354-768111895acd",
   "metadata": {},
   "source": [
    "Baye's theorem is the mathematicals formula that describe the probability of an event occurraing based on prior knowledge of conditons that might be related to the event."
   ]
  },
  {
   "cell_type": "markdown",
   "id": "38a750e9-d9c7-484d-9bd0-93398e74d4d0",
   "metadata": {},
   "source": [
    "The theorem states that the probability of an event A occuring, given some evidence B, is equal to the probability of B occuring ,given that A has occured,multiplied by the prior probability of A occuring , divided by the prior probability of B occuring.in other words:\n",
    "\n",
    "P(A|B)=P(B|A)*P(A)/P(B)"
   ]
  },
  {
   "cell_type": "markdown",
   "id": "7a01d630-a304-4913-924e-2ddacf67cfed",
   "metadata": {},
   "source": [
    "Q2 what is the formula for Baye's theorem?"
   ]
  },
  {
   "cell_type": "markdown",
   "id": "4d88821e-0d7e-4593-96eb-64770892ce51",
   "metadata": {},
   "source": [
    "The formula for Baye's theorem is:\n",
    "\n",
    "P(A|B)=P(B|A)*P(A)/P(B)"
   ]
  },
  {
   "cell_type": "markdown",
   "id": "2e124656-93bc-4038-9574-947358211aba",
   "metadata": {},
   "source": [
    "Where:\n",
    "    "
   ]
  },
  {
   "cell_type": "markdown",
   "id": "b0e85b14-04bc-44a9-b615-c05d2633e818",
   "metadata": {},
   "source": [
    "P(A|B) is the probability of event A occuring given that event B has occured (knows as the posterior probability)\n",
    "\n",
    "P(B|A) is the probability of event B occuring given that event A has occured (known as the likellihood)\n",
    "\n",
    "P(A) is the prior probability of event A occuring ( the probability of A occurimg before taking B into account)\n",
    "\n",
    "P(B) is the prior probability of event B occuring (the probability of B occuring before taking A  into account)\n"
   ]
  },
  {
   "cell_type": "markdown",
   "id": "037f7482-503d-42c0-88ba-06689772d1d4",
   "metadata": {},
   "source": [
    "Q3 how is baye's theorem used in practice?"
   ]
  },
  {
   "cell_type": "markdown",
   "id": "9a8aedeb-52d6-4298-a95d-51d194476de2",
   "metadata": {},
   "source": [
    "Bayes theoremtheorem used in practice in mant different fields, including statistics, machine learning, artificial intelligence, and decision making .\n",
    "\n",
    "Here are some examples of how it is used in practice:\n",
    "\n",
    "    Medical diagnosis:Baye's theorem can be used to calculate the probability of a patient having a disease based on theirsymptoms and medical history. by updating the prior probability of the disease based on the likehood of the symptoms given the disease , we can obtain a more accurate diagnosis.\n",
    "    \n",
    "    Spam filtering: Baye's theorem can be used to classify emails as spam or not spam . by calculating the probability of an emails being spam basedon the likehood of certain words or phrases appereing in the emails, we can filter out unwanted messages.\n",
    "    \n",
    "    Predictive modeling: Baye's theorem can be used to make predictions about future events based on past observations.for example,in whether forecasting we canupdate our prior probability of certain weather conditions based on the likelihood of certain atmosphere patterens, in order to make more accurate predicitions.\n",
    "    \n"
   ]
  },
  {
   "cell_type": "markdown",
   "id": "616c0672-aa3d-4678-9cce-9c4899173c48",
   "metadata": {},
   "source": [
    "Q4 what is the relationship between Baye's theorem and conditional probability?"
   ]
  },
  {
   "cell_type": "markdown",
   "id": "9b116bef-e3ac-4cb2-9038-624fedee06c8",
   "metadata": {},
   "source": [
    "Conditional probability is the probability of an event A given that another event B has occured, and it is calculated as follows:\n",
    "\n",
    "    P(A|B)=P(A and B)/P(B)"
   ]
  },
  {
   "cell_type": "markdown",
   "id": "a0fcc8cc-86f6-4e33-92fc-e2d87ac1143a",
   "metadata": {},
   "source": [
    "this formula gives the probability of events A occuring given that we know event B has occured."
   ]
  },
  {
   "cell_type": "markdown",
   "id": "1075b450-a4e9-4583-8f89-c5394bc94c88",
   "metadata": {},
   "source": [
    "Baye's theorem , on the other hand, is a formula that relates the conditional probabilities of two events. it states that the probability of an event A given event B is equal to the probability of event B given event A, multiplied by the prior probability of event A, and divided by the prior probability of event B:\n",
    "P(A|B)=P(B|A)*P(A)/P(B)\n"
   ]
  },
  {
   "cell_type": "markdown",
   "id": "2c1a0f8e-9ce7-40b1-86f8-eb7bb760a43f",
   "metadata": {},
   "source": [
    "conditional probability is a special case of Baye's theorem , where we are given the likelihood of B given A and want to find the posterior probability of A given B. Baye's theorem privides a general framework for computing probabilities that takes into account prior beliefs and new evidence, and can be used to update those beliefs as new evidence becomes available."
   ]
  },
  {
   "cell_type": "markdown",
   "id": "3e07ea53-f8ab-4bec-91f3-f68ee00d3ec2",
   "metadata": {},
   "source": [
    "Q5 How do you choose which types of naive bayes classifier to use for any given problem."
   ]
  },
  {
   "cell_type": "markdown",
   "id": "ee916515-9847-4104-b6cc-5a8773ec029b",
   "metadata": {},
   "source": [
    "Choosing the right type of Naive Bayes classifier for a given problem depends on the nature of the data and the assumptions we want to make about the relationships between the input features and the output variable. Here are some guidelines for choosing the right type of Naive Bayes classifier:\n",
    "\n",
    "Bernoulli Naive Bayes: This classifier is used for binary or boolean input features, where each feature is either present or absent. For example, it could be used for sentiment analysis, where we want to classify a document as positive or negative based on the presence or absence of certain words.\n",
    "\n",
    "Multinomial Naive Bayes: This classifier is used for discrete input features that can take on multiple values. For example, it could be used for text classification, where we want to classify documents into categories based on the frequency of certain words.\n",
    "\n",
    "Gaussian Naive Bayes: This classifier is used for continuous input features that are normally distributed. For example, it could be used for predicting the price of a house based on its size, location, and other features."
   ]
  },
  {
   "cell_type": "markdown",
   "id": "77e0d9ae-f75b-4e37-a807-aff127c9e821",
   "metadata": {},
   "source": [
    "Q6You have a dataset with two features, x1 and x2, and two possible classes, A and B. You want to use Naive Bayes to classify a new instance with features x1 = 3 and x2 = 4. The following table shows the frequency of each feature value for each class:\n",
    "\n",
    "A=[3,3,4,4,3,3,3]\n",
    "B=[2,2,1,2,2,2,3]\n",
    "\n",
    "Assuming equal prior probabilities for each class, which class would Naive Bayes predict the new instance to belong to?"
   ]
  },
  {
   "cell_type": "markdown",
   "id": "cbced673-e6f2-49c0-b735-419b8acba576",
   "metadata": {},
   "source": [
    "We can do this using Bayes theorem as follows:\n",
    "\n",
    "P(A|x1=3,x2=4) = P(x1=3,x2=4|A) * P(A) / P(x1=3,x2=4)\n",
    "\n",
    "P(B|x1=3,x2=4) = P(x1=3,x2=4|B) * P(B) / P(x1=3,x2=4)\n",
    "\n",
    "While the question mentions that the prior probablities are equal for both class, we can also calculate them by using the frequencies given in the table as:\n",
    "\n",
    "P(A) = 13 / 25 = 0.52\n",
    "\n",
    "P(B) = 12 / 25 = 0.48\n",
    "\n",
    "Then to calculate the likelihoods, we can use the frequencies of the feature values for each class:\n",
    "\n",
    "P(x1=3,x2=4|A) = (1/4) * (3/13) * (3/13) * (3/13) * (3/13) = 0.000233\n",
    "\n",
    "P(x1=3,x2=4|B) = (1/3) * (2/12) * (2/12) * (2/12) * (3/12) = 0.000126\n",
    "\n",
    "Then we can find P(x1=3,x2=4) as:\n",
    "\n",
    "P(x1=3,x2=4) = P(x1=3,x2=4|A) * P(A) + P(x1=3,x2=4|B) * P(B) = 0.000233 * 0.52 + 0.000126 * 0.48 = 0.000178\n",
    "\n",
    "Finally, we can substitute these values into the formula for Bayes theorem to obtain the posterior probabilities:\n",
    "\n",
    "P(A|x1=3,x2=4) = 0.000233 * 0.52 / 0.000178 = 0.677\n",
    "P(B|x1=3,x2=4) = 0.000126 * 0.48 / 0.000178 = 0.323\n",
    "\n",
    "Therefore, according to this Naive Bayes classifier, the new instance with features x1=3 and x2=4 would be classified as belonging to class A."
   ]
  },
  {
   "cell_type": "markdown",
   "id": "4ff54c45-6a93-44c7-931e-8e504a275233",
   "metadata": {},
   "source": []
  }
 ],
 "metadata": {
  "kernelspec": {
   "display_name": "Python 3 (ipykernel)",
   "language": "python",
   "name": "python3"
  },
  "language_info": {
   "codemirror_mode": {
    "name": "ipython",
    "version": 3
   },
   "file_extension": ".py",
   "mimetype": "text/x-python",
   "name": "python",
   "nbconvert_exporter": "python",
   "pygments_lexer": "ipython3",
   "version": "3.10.8"
  }
 },
 "nbformat": 4,
 "nbformat_minor": 5
}
